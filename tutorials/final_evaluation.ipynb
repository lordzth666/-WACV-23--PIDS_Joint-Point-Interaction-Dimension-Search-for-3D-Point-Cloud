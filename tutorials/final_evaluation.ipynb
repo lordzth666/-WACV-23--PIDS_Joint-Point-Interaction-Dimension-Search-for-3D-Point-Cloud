{
 "cells": [
  {
   "attachments": {},
   "cell_type": "markdown",
   "metadata": {},
   "source": [
    "### Guide: Evaluate final searched models"
   ]
  },
  {
   "attachments": {},
   "cell_type": "markdown",
   "metadata": {},
   "source": [
    "This provides the guidance on how to train/evaluate the final searched models. The guidelines are shown as follows."
   ]
  },
  {
   "cell_type": "code",
   "execution_count": 3,
   "metadata": {},
   "outputs": [],
   "source": [
    "# Set your project folder as follows. The working directory should be the same as the project folder. \n",
    "import os\n",
    "os.chdir(\"../..\")"
   ]
  },
  {
   "attachments": {},
   "cell_type": "markdown",
   "metadata": {},
   "source": [
    "### Train best SemanticKITTI model"
   ]
  },
  {
   "cell_type": "code",
   "execution_count": null,
   "metadata": {},
   "outputs": [],
   "source": [
    "!CUDA_VISIBLE_DEVICES=0 python -u training/train_SemanticKitti.py \\\n",
    "        --train_cfg golden \\\n",
    "        --block_args_cfg golden \\\n",
    "        --save_path ./experiments/semantickitti-golden_goldenTrainCFG-demo/ \\\n",
    "        --c_multiplier 1.25"
   ]
  },
  {
   "attachments": {},
   "cell_type": "markdown",
   "metadata": {},
   "source": [
    "### Train Best S3DIS model"
   ]
  },
  {
   "cell_type": "code",
   "execution_count": null,
   "metadata": {},
   "outputs": [],
   "source": [
    "!CUDA_VISIBLE_DEVICES=0 python -u training/train_S3DIS.py \\\n",
    "        --train_cfg golden \\\n",
    "        --block_args_cfg golden \\\n",
    "        --save_path ./experiments/s3dis-golden_goldenTrainCFG-demo/ \\\n",
    "        --c_multiplier 1.25"
   ]
  },
  {
   "attachments": {},
   "cell_type": "markdown",
   "metadata": {},
   "source": [
    "### Train Best ModelNet40 model"
   ]
  },
  {
   "cell_type": "code",
   "execution_count": null,
   "metadata": {},
   "outputs": [],
   "source": [
    "!CUDA_VISIBLE_DEVICES=0 python -u training/train_ModelNet40.py \\\n",
    "        --train_cfg golden \\\n",
    "        --block_args_cfg golden \\\n",
    "        --save_path ./experiments/modelnet40-golden_goldenTrainCFG-demo/ \\\n",
    "        --c_multiplier 1.25"
   ]
  },
  {
   "attachments": {},
   "cell_type": "markdown",
   "metadata": {},
   "source": [
    "### Hyperparameters"
   ]
  },
  {
   "attachments": {},
   "cell_type": "markdown",
   "metadata": {},
   "source": [
    "See `pids/cfgs/semantickitti.py::GoldenSemanticKittiConfig` for S3DIS hyperparameters. \n",
    "\n",
    "See `pids/cfgs/s3dis.py::GoldenS3DISConfig` for S3DIS hyperparameters. For 6-fold cross-validation, you may need to change the validation split in the config file.\n",
    "\n",
    "See `pids/cfgs/modelnet40.py::SimpleBaselineModelnet40Config` for ModelNet40 hyperparameters. This uses the evaluation protocol from the SimpleBaseline paper."
   ]
  },
  {
   "cell_type": "markdown",
   "metadata": {},
   "source": []
  }
 ],
 "metadata": {
  "kernelspec": {
   "display_name": "pytorch",
   "language": "python",
   "name": "python3"
  },
  "language_info": {
   "codemirror_mode": {
    "name": "ipython",
    "version": 3
   },
   "file_extension": ".py",
   "mimetype": "text/x-python",
   "name": "python",
   "nbconvert_exporter": "python",
   "pygments_lexer": "ipython3",
   "version": "3.9.15 (main, Nov 24 2022, 14:31:59) \n[GCC 11.2.0]"
  },
  "orig_nbformat": 4,
  "vscode": {
   "interpreter": {
    "hash": "07007dd0c3dc28847e9efa73310b209a05f1b4ccb58b489d9e033125ed530915"
   }
  }
 },
 "nbformat": 4,
 "nbformat_minor": 2
}
